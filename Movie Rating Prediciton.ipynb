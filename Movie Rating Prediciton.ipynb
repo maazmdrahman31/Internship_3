{
 "cells": [
  {
   "cell_type": "code",
   "execution_count": 1,
   "id": "5853a2f6-d787-4fc6-a10f-8c1d4f80a2f7",
   "metadata": {},
   "outputs": [
    {
     "name": "stdout",
     "output_type": "stream",
     "text": [
      "Mean Squared Error: 0.010000000000000817\n"
     ]
    }
   ],
   "source": [
    "import numpy as np\n",
    "import pandas as pd\n",
    "from sklearn.model_selection import train_test_split\n",
    "from sklearn.linear_model import LinearRegression\n",
    "from sklearn.metrics import mean_squared_error\n",
    "\n",
    "# Sample dataset (you would typically use a larger, real dataset)\n",
    "data = {\n",
    "    'Genre': ['Action', 'Comedy', 'Drama', 'Action', 'Comedy'],\n",
    "    'Director': ['Director1', 'Director2', 'Director3', 'Director1', 'Director2'],\n",
    "    'Budget': [100000000, 50000000, 70000000, 90000000, 60000000],\n",
    "    'Rating': [7.5, 6.0, 8.2, 7.1, 6.5]\n",
    "}\n",
    "\n",
    "df = pd.DataFrame(data)\n",
    "\n",
    "# Convert categorical variables into numerical using one-hot encoding\n",
    "df = pd.get_dummies(df, columns=['Genre', 'Director'], prefix=['Genre', 'Director'])\n",
    "\n",
    "# Split the dataset into features (X) and the target (y)\n",
    "X = df.drop('Rating', axis=1)\n",
    "y = df['Rating']\n",
    "\n",
    "# Split the data into training and testing sets\n",
    "X_train, X_test, y_train, y_test = train_test_split(X, y, test_size=0.2, random_state=42)\n",
    "\n",
    "# Create and train a linear regression model\n",
    "model = LinearRegression()\n",
    "model.fit(X_train, y_train)\n",
    "\n",
    "# Make predictions\n",
    "y_pred = model.predict(X_test)\n",
    "\n",
    "# Calculate Mean Squared Error (MSE) to evaluate the model\n",
    "mse = mean_squared_error(y_test, y_pred)\n",
    "print(f\"Mean Squared Error: {mse}\")\n",
    "\n"
   ]
  },
  {
   "cell_type": "code",
   "execution_count": null,
   "id": "81255890-5316-4744-b464-cc8dad6f6853",
   "metadata": {},
   "outputs": [],
   "source": []
  }
 ],
 "metadata": {
  "kernelspec": {
   "display_name": "Python 3 (ipykernel)",
   "language": "python",
   "name": "python3"
  },
  "language_info": {
   "codemirror_mode": {
    "name": "ipython",
    "version": 3
   },
   "file_extension": ".py",
   "mimetype": "text/x-python",
   "name": "python",
   "nbconvert_exporter": "python",
   "pygments_lexer": "ipython3",
   "version": "3.11.4"
  }
 },
 "nbformat": 4,
 "nbformat_minor": 5
}
